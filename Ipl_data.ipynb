{
 "cells": [
  {
   "cell_type": "code",
   "execution_count": 1,
   "metadata": {},
   "outputs": [],
   "source": [
    "import numpy as np"
   ]
  },
  {
   "cell_type": "code",
   "execution_count": 2,
   "metadata": {},
   "outputs": [],
   "source": [
    "import pandas as pd"
   ]
  },
  {
   "cell_type": "code",
   "execution_count": 3,
   "metadata": {},
   "outputs": [],
   "source": [
    "matches = pd.read_csv('matches.csv')"
   ]
  },
  {
   "cell_type": "code",
   "execution_count": 4,
   "metadata": {},
   "outputs": [],
   "source": [
    "matches = pd.DataFrame(matches)"
   ]
  },
  {
   "cell_type": "markdown",
   "metadata": {},
   "source": [
    "# Problem 1\n",
    "### Which team has won/lost maximum number of matches while chasing?"
   ]
  },
  {
   "cell_type": "markdown",
   "metadata": {},
   "source": [
    "### Filtering the data on basis if the chasing team won the match or lost the match and counting such teams"
   ]
  },
  {
   "cell_type": "code",
   "execution_count": 5,
   "metadata": {},
   "outputs": [
    {
     "data": {
      "text/plain": [
       "'Kolkata Knight Riders'"
      ]
     },
     "execution_count": 5,
     "metadata": {},
     "output_type": "execute_result"
    }
   ],
   "source": [
    "matches.loc[matches['team2'] == matches['winner']]['winner'].value_counts().idxmax()"
   ]
  },
  {
   "cell_type": "code",
   "execution_count": 6,
   "metadata": {},
   "outputs": [
    {
     "data": {
      "text/plain": [
       "'Delhi Daredevils'"
      ]
     },
     "execution_count": 6,
     "metadata": {},
     "output_type": "execute_result"
    }
   ],
   "source": [
    "matches.loc[matches['team2'] != matches['winner']]['team2'].value_counts().idxmax()"
   ]
  },
  {
   "cell_type": "markdown",
   "metadata": {},
   "source": [
    "# Problem 2\n",
    "\n",
    "### Which toss decision is best for each ground?\n",
    "\n",
    "### There are three results if the batting team has won more matches then choose to bat, else if the fielding team has won more matches then choose to field, else it is equal."
   ]
  },
  {
   "cell_type": "code",
   "execution_count": 35,
   "metadata": {},
   "outputs": [
    {
     "data": {
      "text/plain": [
       "venue\n",
       "ACA-VDCA Stadium                                        field\n",
       "Barabati Stadium                                          bat\n",
       "Brabourne Stadium                                         bat\n",
       "Buffalo Park                                              bat\n",
       "De Beers Diamond Oval                                   field\n",
       "Dr DY Patil Sports Academy                              field\n",
       "Dr. Y.S. Rajasekhara Reddy ACA-VDCA Cricket Stadium       bat\n",
       "Dubai International Cricket Stadium                     field\n",
       "Eden Gardens                                            field\n",
       "Feroz Shah Kotla                                        field\n",
       "Feroz Shah Kotla Ground                                 field\n",
       "Green Park                                              field\n",
       "Himachal Pradesh Cricket Association Stadium              bat\n",
       "Holkar Cricket Stadium                                  field\n",
       "IS Bindra Stadium                                       field\n",
       "JSCA International Stadium Complex                      field\n",
       "Kingsmead                                                 bat\n",
       "M Chinnaswamy Stadium                                   field\n",
       "M. A. Chidambaram Stadium                               equal\n",
       "M. Chinnaswamy Stadium                                  equal\n",
       "MA Chidambaram Stadium, Chepauk                           bat\n",
       "Maharashtra Cricket Association Stadium                 field\n",
       "Nehru Stadium                                             bat\n",
       "New Wanderers Stadium                                   field\n",
       "Newlands                                                  bat\n",
       "OUTsurance Oval                                         equal\n",
       "Punjab Cricket Association IS Bindra Stadium, Mohali    equal\n",
       "Punjab Cricket Association Stadium, Mohali              field\n",
       "Rajiv Gandhi International Stadium, Uppal               field\n",
       "Rajiv Gandhi Intl. Cricket Stadium                        bat\n",
       "Sardar Patel Stadium, Motera                            equal\n",
       "Saurashtra Cricket Association Stadium                  field\n",
       "Sawai Mansingh Stadium                                  field\n",
       "Shaheed Veer Narayan Singh International Stadium        field\n",
       "Sharjah Cricket Stadium                                 field\n",
       "Sheikh Zayed Stadium                                      bat\n",
       "St George's Park                                        field\n",
       "Subrata Roy Sahara Stadium                                bat\n",
       "SuperSport Park                                         field\n",
       "Vidarbha Cricket Association Stadium, Jamtha              bat\n",
       "Wankhede Stadium                                        field\n",
       "Name: decision, dtype: object"
      ]
     },
     "execution_count": 35,
     "metadata": {},
     "output_type": "execute_result"
    }
   ],
   "source": [
    "# Ques 2\n",
    "t = matches.loc[:,['venue','team1', 'team2', 'winner']]\n",
    "# creating bat column and setting it to True where the batting team won the match\n",
    "t['bat'] = (t['team1'] == t['winner'])\n",
    "# creating bat column and setting it to True where the fielding team won the match\n",
    "t['field'] = (t['team2'] == t['winner'])\n",
    "t = t[['venue','bat','field']]\n",
    "tt1 =  pd.DataFrame(t.groupby('venue')['bat'].apply(lambda x: x[x == True].count()))\n",
    "tt2 =  pd.DataFrame(t.groupby('venue')['field'].apply(lambda x: x[x == True].count()))\n",
    "t2sol = pd.merge(tt1, tt2, on='venue')\n",
    "t2sol['decision'] = t2sol.apply(lambda row: ('bat' if row['bat']>row['field'] else 'equal') if row['bat'] >= row['field'] else 'field', axis=1)\n",
    "t2sol['decision']"
   ]
  },
  {
   "cell_type": "markdown",
   "metadata": {},
   "source": [
    "# Problem 3\n",
    "\n",
    "### Which player has won maximum number of MoM awards while chasing?"
   ]
  },
  {
   "cell_type": "code",
   "execution_count": 47,
   "metadata": {},
   "outputs": [
    {
     "name": "stdout",
     "output_type": "stream",
     "text": [
      "Player who was man of the match maximum times while chasing : YK Pathan\n"
     ]
    }
   ],
   "source": [
    "print(\"Player who was man of the match maximum times while chasing :\", matches.loc[matches['team2'] == matches['winner']].groupby('player_of_match')['id'].count().idxmax())"
   ]
  },
  {
   "cell_type": "markdown",
   "metadata": {},
   "source": [
    "# Problem 4\n",
    "\n",
    "### Which batsman has played maximum number of dot balls?"
   ]
  },
  {
   "cell_type": "code",
   "execution_count": 40,
   "metadata": {},
   "outputs": [],
   "source": [
    "deliveries_df = pd.read_csv('deliveries.csv')"
   ]
  },
  {
   "cell_type": "code",
   "execution_count": 46,
   "metadata": {},
   "outputs": [
    {
     "name": "stdout",
     "output_type": "stream",
     "text": [
      "Batsman who has played maximum number of dot balls : V Kohli\n"
     ]
    }
   ],
   "source": [
    "print(\"Batsman who has played maximum number of dot balls :\", deliveries_df.loc[deliveries_df['batsman_runs'] == 0].groupby('batsman')['match_id'].count().idxmax())"
   ]
  },
  {
   "cell_type": "markdown",
   "metadata": {},
   "source": [
    "# Problem 5\n",
    "\n",
    "### Which batsmen came to crease but never got a chance to face a ball?"
   ]
  },
  {
   "cell_type": "code",
   "execution_count": 20,
   "metadata": {},
   "outputs": [
    {
     "name": "stdout",
     "output_type": "stream",
     "text": [
      "2 -> {'MJ McClenaghan'}\n",
      "3 -> {'DR Smith'}\n",
      "4 -> {'R Bhatia'}\n",
      "10 -> {'A Nehra'}\n",
      "11 -> {'Sandeep Sharma'}\n",
      "21 -> {'CH Morris'}\n",
      "28 -> {'MG Johnson', 'MJ McClenaghan'}\n",
      "29 -> {'MK Pandey'}\n",
      "31 -> {'PJ Cummins'}\n",
      "37 -> {'S Aravind'}\n",
      "43 -> {'A Nehra', 'JD Unadkat'}\n",
      "45 -> {'S Aravind'}\n",
      "51 -> {'S Nadeem'}\n",
      "54 -> {'Sandeep Sharma'}\n",
      "64 -> {'PP Ojha'}\n",
      "71 -> {'AB Dinda'}\n",
      "74 -> {'JDP Oram'}\n",
      "75 -> {'I Sharma'}\n",
      "79 -> {'Joginder Sharma'}\n",
      "80 -> {'SB Bangar', 'DP Vijaykumar'}\n",
      "82 -> {'A Nehra'}\n",
      "90 -> {'A Kumble'}\n",
      "91 -> {'S Sreesanth'}\n",
      "95 -> {'GD McGrath'}\n",
      "109 -> {'A Nel'}\n",
      "111 -> {'Z Khan'}\n",
      "115 -> {'MM Patel'}\n",
      "118 -> {'PR Shah'}\n",
      "119 -> {'DW Steyn'}\n",
      "120 -> {'T Kohli', 'PP Chawla'}\n",
      "125 -> {'DL Vettori', 'L Balaji'}\n",
      "129 -> {'R Vinay Kumar'}\n",
      "130 -> {'K Goel'}\n",
      "131 -> {'MS Gony'}\n",
      "135 -> {'Z Khan'}\n",
      "138 -> {'AB Agarkar'}\n",
      "139 -> {'RR Powar'}\n",
      "140 -> {'Y Venugopal Rao'}\n",
      "141 -> {'A Nehra', 'S Tyagi'}\n",
      "148 -> {'A Kumble'}\n",
      "150 -> {'SL Malinga'}\n",
      "155 -> {'RP Singh'}\n",
      "157 -> {'PP Chawla'}\n",
      "158 -> {'PJ Sangwan'}\n",
      "159 -> {'S Tyagi'}\n",
      "160 -> {'SK Warne'}\n",
      "163 -> {'AB Agarkar'}\n",
      "164 -> {'Jaskaran Singh'}\n",
      "170 -> {'DS Kulkarni', 'SL Malinga'}\n",
      "176 -> {'Z Khan', 'SA Asnodkar'}\n",
      "183 -> {'R Sathish'}\n",
      "187 -> {'AD Mathews'}\n",
      "188 -> {'SL Malinga'}\n",
      "193 -> {'AA Jhunjhunwala'}\n",
      "195 -> {'PP Ojha'}\n",
      "196 -> {'WP Saha'}\n",
      "198 -> {'SK Warne'}\n",
      "199 -> {'PP Ojha'}\n",
      "202 -> {'C Ganapathy'}\n",
      "204 -> {'Y Venugopal Rao'}\n",
      "206 -> {'S Anirudha'}\n",
      "210 -> {'PP Ojha', 'Harmeet Singh'}\n",
      "214 -> {'P Kumar'}\n",
      "216 -> {'SB Jakati'}\n",
      "227 -> {'Kamran Khan'}\n",
      "232 -> {'SB Jakati'}\n",
      "233 -> {'Harmeet Singh'}\n",
      "247 -> {'KA Pollard'}\n",
      "250 -> {'S Nadeem'}\n",
      "258 -> {'MK Tiwary'}\n",
      "266 -> {'AB Agarkar'}\n",
      "268 -> {'A Mithun'}\n",
      "271 -> {'M Kartik'}\n",
      "273 -> {'TL Suman'}\n",
      "275 -> {'MV Boucher'}\n",
      "276 -> {'JA Morkel'}\n",
      "283 -> {'RP Singh'}\n",
      "285 -> {'SK Trivedi'}\n",
      "286 -> {'I Sharma'}\n",
      "287 -> {'SL Malinga'}\n",
      "289 -> {'WP Saha'}\n",
      "291 -> {'A Mithun'}\n",
      "292 -> {'DS Kulkarni', 'SL Malinga'}\n",
      "302 -> {'SB Jakati'}\n",
      "305 -> {'RG Sharma'}\n",
      "307 -> {'S Badrinath'}\n",
      "310 -> {'R Sharma'}\n",
      "313 -> {'TP Sudhindra'}\n",
      "318 -> {'M Vijay'}\n",
      "320 -> {'Z Khan'}\n",
      "329 -> {'B Kumar'}\n",
      "331 -> {'PA Patel'}\n",
      "343 -> {'P Awana'}\n",
      "345 -> {'AB Agarkar'}\n",
      "347 -> {'LR Shukla'}\n",
      "353 -> {'M Kartik'}\n",
      "357 -> {'M Morkel'}\n",
      "366 -> {'PA Reddy'}\n",
      "370 -> {'MM Patel'}\n",
      "376 -> {'DW Steyn'}\n",
      "377 -> {'GB Hogg'}\n",
      "382 -> {'UT Yadav'}\n",
      "385 -> {'S Sreesanth'}\n",
      "386 -> {'DP Nannes'}\n",
      "388 -> {'A Mishra'}\n",
      "400 -> {'L Balaji', 'P Awana'}\n",
      "405 -> {'MS Gony'}\n",
      "406 -> {'JH Kallis'}\n",
      "412 -> {'PP Chawla'}\n",
      "416 -> {'I Sharma'}\n",
      "417 -> {'AT Rayudu'}\n",
      "424 -> {'G Gambhir'}\n",
      "431 -> {'M Rawat'}\n",
      "434 -> {'Harbhajan Singh', 'AT Rayudu'}\n",
      "435 -> {'I Sharma'}\n",
      "445 -> {'LJ Wright'}\n",
      "449 -> {'A Mishra'}\n",
      "451 -> {'S Kaul'}\n",
      "452 -> {'S Badrinath'}\n",
      "454 -> {'MM Patel'}\n",
      "461 -> {'DW Steyn'}\n",
      "463 -> {'NM Coulter-Nile'}\n",
      "465 -> {'BW Hilfenhaus'}\n",
      "466 -> {'AR Patel'}\n",
      "468 -> {'MA Starc'}\n",
      "471 -> {'STR Binny', 'YS Chahal'}\n",
      "473 -> {'Z Khan'}\n",
      "478 -> {'R Vinay Kumar'}\n",
      "480 -> {'WD Parnell'}\n",
      "484 -> {'AP Tare'}\n",
      "490 -> {'R Ashwin'}\n",
      "494 -> {'KK Cooper'}\n",
      "497 -> {'RN ten Doeschate'}\n",
      "511 -> {'R Vinay Kumar', 'Parvez Rasool'}\n",
      "513 -> {'KK Cooper'}\n",
      "514 -> {'M Morkel', 'SP Narine'}\n",
      "519 -> {'DJ Muthuswami'}\n",
      "520 -> {'TG Southee'}\n",
      "521 -> {'DJ Bravo'}\n",
      "522 -> {'PP Chawla'}\n",
      "524 -> {'R Vinay Kumar'}\n",
      "528 -> {'R Dhawan', 'MK Tiwary'}\n",
      "530 -> {'J Suchith'}\n",
      "539 -> {'JJ Bumrah'}\n",
      "549 -> {'Harbhajan Singh'}\n",
      "554 -> {'MM Sharma', 'Mandeep Singh', 'YS Chahal'}\n",
      "560 -> {'GJ Bailey', 'UT Yadav'}\n",
      "564 -> {'BE Hendricks'}\n",
      "566 -> {'HV Patel'}\n",
      "568 -> {'SN Khan'}\n",
      "575 -> {'RA Jadeja'}\n",
      "579 -> {'MG Johnson'}\n",
      "585 -> {'MJ McClenaghan'}\n",
      "590 -> {'HV Patel'}\n",
      "592 -> {'I Sharma'}\n",
      "596 -> {'SP Narine'}\n",
      "597 -> {'KH Pandya', 'MM Sharma'}\n",
      "598 -> {'A Nehra'}\n",
      "601 -> {'P Kumar'}\n",
      "602 -> {'GB Hogg'}\n",
      "604 -> {'S Kaushik'}\n",
      "606 -> {'VR Aaron'}\n",
      "614 -> {'DJ Bravo'}\n",
      "615 -> {'STR Binny'}\n",
      "616 -> {'R Bhatia'}\n",
      "622 -> {'GJ Maxwell'}\n",
      "634 -> {'M Morkel', 'BB Sran'}\n",
      "7896 -> {'Washington Sundar'}\n",
      "7899 -> {'SS Iyer', 'C Munro'}\n",
      "7905 -> {'BB Sran'}\n",
      "7906 -> {'S Mavi'}\n",
      "7908 -> {'JD Unadkat'}\n",
      "7912 -> {'CH Morris'}\n",
      "7914 -> {'JD Unadkat'}\n",
      "7917 -> {'Mohammed Siraj'}\n",
      "7919 -> {'V Shankar'}\n",
      "7920 -> {'RA Jadeja'}\n",
      "7921 -> {'Basil Thampi'}\n",
      "7923 -> {'RA Jadeja'}\n",
      "7924 -> {'MJ McClenaghan'}\n",
      "7925 -> {'J Archer'}\n",
      "7926 -> {'KV Sharma'}\n",
      "7927 -> {'R Ashwin'}\n",
      "7930 -> {'PP Chawla'}\n",
      "7934 -> {'JP Duminy'}\n",
      "7935 -> {'V Shankar'}\n",
      "7936 -> {'J Archer'}\n",
      "7940 -> {'JP Duminy', 'BA Stokes'}\n",
      "7947 -> {'S Gill', 'S Kaul'}\n",
      "7948 -> {'Mustafizur Rahman'}\n",
      "7951 -> {'PP Chawla'}\n",
      "7952 -> {'P Krishna'}\n",
      "11139 -> {'JJ Bumrah'}\n",
      "11145 -> {'M Markande'}\n",
      "11146 -> {'HV Patel'}\n",
      "11148 -> {'JD Unadkat'}\n",
      "11149 -> {'M Ur Rahman'}\n",
      "11152 -> {'I Sharma'}\n",
      "11310 -> {'A Joseph'}\n",
      "11318 -> {'KH Pandya'}\n",
      "11320 -> {'Kuldeep Yadav'}\n",
      "11322 -> {'Mohammed Siraj', 'KA Pollard'}\n",
      "11323 -> {'JD Unadkat'}\n",
      "11324 -> {'YK Pathan'}\n",
      "11325 -> {'K Paul', 'KA Pollard', 'I Sharma'}\n",
      "11326 -> {'KD Karthik'}\n",
      "11330 -> {'DW Steyn', 'SN Thakur'}\n",
      "11331 -> {'SV Samson'}\n",
      "11332 -> {'DJ Bravo'}\n",
      "11335 -> {'Imran Tahir'}\n",
      "11336 -> {'S Kaul'}\n",
      "11337 -> {'UT Yadav'}\n",
      "11340 -> {'UT Yadav'}\n",
      "11342 -> {'Rashid Khan'}\n",
      "11347 -> {'SP Narine'}\n",
      "11413 -> {'B Kumar', 'TA Boult'}\n",
      "11415 -> {'JJ Bumrah'}\n"
     ]
    }
   ],
   "source": [
    "t = deliveries_df[['match_id', 'batsman', 'non_striker']].drop_duplicates().reset_index(drop = True)\n",
    "for id, group in t.groupby('match_id'):\n",
    "    set1 = set(group['batsman'])\n",
    "    set2 = set(group['non_striker'])\n",
    "    st = set2 - set1\n",
    "    if len(st) != 0:\n",
    "        print(id, \"->\", st)"
   ]
  },
  {
   "cell_type": "markdown",
   "metadata": {},
   "source": [
    "# Problem 6\n",
    "\n",
    "### Which bowler has hit for maximum number of 1s/2s/3s/4s/6s?"
   ]
  },
  {
   "cell_type": "code",
   "execution_count": 41,
   "metadata": {},
   "outputs": [
    {
     "name": "stdout",
     "output_type": "stream",
     "text": [
      "Bowler who conceded maximum 1s : Harbhajan Singh\n",
      "Bowler who conceded maximum 2s : DJ Bravo\n",
      "Bowler who conceded maximum 3s : P Kumar\n",
      "Bowler who conceded maximum 4s : UT Yadav\n",
      "Bowler who conceded maximum 6s : PP Chawla\n"
     ]
    }
   ],
   "source": [
    "lst = [1,2,3,4,6]\n",
    "for i in lst:\n",
    "    print(\"Bowler who conceded maximum \" + str(i) + \"s :\",deliveries_df.loc[deliveries_df['total_runs'] == i].groupby('bowler')['match_id'].count().idxmax())"
   ]
  },
  {
   "cell_type": "markdown",
   "metadata": {},
   "source": [
    "# Probem 7\n",
    "\n",
    "### Which batsman got stumped out maximum number of times?"
   ]
  },
  {
   "cell_type": "code",
   "execution_count": 43,
   "metadata": {},
   "outputs": [
    {
     "name": "stdout",
     "output_type": "stream",
     "text": [
      "Batsman who got stumped maximum number of times : SK Raina\n"
     ]
    }
   ],
   "source": [
    "print(\"Batsman who got stumped maximum number of times :\", deliveries_df.loc[deliveries_df['dismissal_kind'] == 'stumped'].groupby('batsman')['match_id'].count().idxmax())"
   ]
  },
  {
   "cell_type": "markdown",
   "metadata": {},
   "source": [
    "# Problem 8\n",
    "\n",
    "### Which non-striker has been part of maximum number of runouts?"
   ]
  },
  {
   "cell_type": "code",
   "execution_count": 45,
   "metadata": {},
   "outputs": [
    {
     "name": "stdout",
     "output_type": "stream",
     "text": [
      "Non-striker who got involved in most number of runouts : KD Karthik\n"
     ]
    }
   ],
   "source": [
    "print(\"Non-striker who got involved in most number of runouts :\", deliveries_df.loc[deliveries_df['dismissal_kind'] == 'run out'].groupby('non_striker')['match_id'].count().idxmax())"
   ]
  },
  {
   "cell_type": "markdown",
   "metadata": {},
   "source": [
    "# 5 New Queries"
   ]
  },
  {
   "cell_type": "markdown",
   "metadata": {},
   "source": [
    "# Query 1"
   ]
  },
  {
   "cell_type": "markdown",
   "metadata": {},
   "source": [
    " ## How toss winning affects the match winner\n",
    " "
   ]
  },
  {
   "cell_type": "code",
   "execution_count": 21,
   "metadata": {},
   "outputs": [
    {
     "name": "stdout",
     "output_type": "stream",
     "text": [
      "Number of matches in which Toss winner is the game winner is : 393 out of 756  ie., 51.98412698412699 %\n"
     ]
    }
   ],
   "source": [
    "tosswin_win = matches['id'][matches['toss_winner'] == matches['winner']].count()\n",
    "total_matches=matches['id'].count()\n",
    "Success_rate = ((matches[matches['toss_winner'] == matches['winner']].count())/(total_matches))*100\n",
    "\n",
    "print(\"Number of matches in which Toss winner is the game winner is :\",tosswin_win, \"out of\",total_matches,\" ie.,\", Success_rate[\"id\"],\"%\" )"
   ]
  },
  {
   "cell_type": "markdown",
   "metadata": {},
   "source": [
    "# Query 2"
   ]
  },
  {
   "cell_type": "markdown",
   "metadata": {},
   "source": [
    "# In which city does each team has won more matches ?"
   ]
  },
  {
   "cell_type": "code",
   "execution_count": 17,
   "metadata": {},
   "outputs": [
    {
     "data": {
      "text/html": [
       "<div>\n",
       "<style scoped>\n",
       "    .dataframe tbody tr th:only-of-type {\n",
       "        vertical-align: middle;\n",
       "    }\n",
       "\n",
       "    .dataframe tbody tr th {\n",
       "        vertical-align: top;\n",
       "    }\n",
       "\n",
       "    .dataframe thead th {\n",
       "        text-align: right;\n",
       "    }\n",
       "</style>\n",
       "<table border=\"1\" class=\"dataframe\">\n",
       "  <thead>\n",
       "    <tr style=\"text-align: right;\">\n",
       "      <th></th>\n",
       "      <th>winner</th>\n",
       "      <th>city</th>\n",
       "      <th>win_counts</th>\n",
       "    </tr>\n",
       "  </thead>\n",
       "  <tbody>\n",
       "    <tr>\n",
       "      <th>0</th>\n",
       "      <td>Mumbai Indians</td>\n",
       "      <td>Mumbai</td>\n",
       "      <td>53</td>\n",
       "    </tr>\n",
       "    <tr>\n",
       "      <th>1</th>\n",
       "      <td>Kolkata Knight Riders</td>\n",
       "      <td>Kolkata</td>\n",
       "      <td>45</td>\n",
       "    </tr>\n",
       "    <tr>\n",
       "      <th>2</th>\n",
       "      <td>Chennai Super Kings</td>\n",
       "      <td>Chennai</td>\n",
       "      <td>40</td>\n",
       "    </tr>\n",
       "    <tr>\n",
       "      <th>3</th>\n",
       "      <td>Rajasthan Royals</td>\n",
       "      <td>Jaipur</td>\n",
       "      <td>32</td>\n",
       "    </tr>\n",
       "    <tr>\n",
       "      <th>4</th>\n",
       "      <td>Sunrisers Hyderabad</td>\n",
       "      <td>Hyderabad</td>\n",
       "      <td>30</td>\n",
       "    </tr>\n",
       "    <tr>\n",
       "      <th>5</th>\n",
       "      <td>Royal Challengers Bangalore</td>\n",
       "      <td>Bangalore</td>\n",
       "      <td>30</td>\n",
       "    </tr>\n",
       "    <tr>\n",
       "      <th>6</th>\n",
       "      <td>Delhi Daredevils</td>\n",
       "      <td>Delhi</td>\n",
       "      <td>27</td>\n",
       "    </tr>\n",
       "    <tr>\n",
       "      <th>7</th>\n",
       "      <td>Kings XI Punjab</td>\n",
       "      <td>Chandigarh</td>\n",
       "      <td>22</td>\n",
       "    </tr>\n",
       "    <tr>\n",
       "      <th>8</th>\n",
       "      <td>Rising Pune Supergiant</td>\n",
       "      <td>Pune</td>\n",
       "      <td>5</td>\n",
       "    </tr>\n",
       "    <tr>\n",
       "      <th>9</th>\n",
       "      <td>Delhi Capitals</td>\n",
       "      <td>Delhi</td>\n",
       "      <td>4</td>\n",
       "    </tr>\n",
       "    <tr>\n",
       "      <th>10</th>\n",
       "      <td>Pune Warriors</td>\n",
       "      <td>Pune</td>\n",
       "      <td>4</td>\n",
       "    </tr>\n",
       "    <tr>\n",
       "      <th>11</th>\n",
       "      <td>Gujarat Lions</td>\n",
       "      <td>Rajkot</td>\n",
       "      <td>3</td>\n",
       "    </tr>\n",
       "    <tr>\n",
       "      <th>12</th>\n",
       "      <td>Deccan Chargers</td>\n",
       "      <td>Cuttack</td>\n",
       "      <td>3</td>\n",
       "    </tr>\n",
       "    <tr>\n",
       "      <th>13</th>\n",
       "      <td>Rising Pune Supergiants</td>\n",
       "      <td>Visakhapatnam</td>\n",
       "      <td>2</td>\n",
       "    </tr>\n",
       "    <tr>\n",
       "      <th>14</th>\n",
       "      <td>Kochi Tuskers Kerala</td>\n",
       "      <td>Kochi</td>\n",
       "      <td>2</td>\n",
       "    </tr>\n",
       "  </tbody>\n",
       "</table>\n",
       "</div>"
      ],
      "text/plain": [
       "                         winner           city  win_counts\n",
       "0                Mumbai Indians         Mumbai          53\n",
       "1         Kolkata Knight Riders        Kolkata          45\n",
       "2           Chennai Super Kings        Chennai          40\n",
       "3              Rajasthan Royals         Jaipur          32\n",
       "4           Sunrisers Hyderabad      Hyderabad          30\n",
       "5   Royal Challengers Bangalore      Bangalore          30\n",
       "6              Delhi Daredevils          Delhi          27\n",
       "7               Kings XI Punjab     Chandigarh          22\n",
       "8        Rising Pune Supergiant           Pune           5\n",
       "9                Delhi Capitals          Delhi           4\n",
       "10                Pune Warriors           Pune           4\n",
       "11                Gujarat Lions         Rajkot           3\n",
       "12              Deccan Chargers        Cuttack           3\n",
       "13      Rising Pune Supergiants  Visakhapatnam           2\n",
       "14         Kochi Tuskers Kerala          Kochi           2"
      ]
     },
     "execution_count": 17,
     "metadata": {},
     "output_type": "execute_result"
    }
   ],
   "source": [
    "a = matches.groupby(['winner','city']).size().reset_index(name='win_counts')\n",
    "a = a.sort_values(\"win_counts\",ascending=False)\n",
    "b = pd.DataFrame(a.groupby(\"winner\").head(1)).reset_index(drop = True)\n",
    "b"
   ]
  },
  {
   "cell_type": "markdown",
   "metadata": {},
   "source": [
    "# Query 3"
   ]
  },
  {
   "cell_type": "markdown",
   "metadata": {},
   "source": [
    "# Each Season Winner"
   ]
  },
  {
   "cell_type": "code",
   "execution_count": 19,
   "metadata": {},
   "outputs": [
    {
     "data": {
      "text/html": [
       "<div>\n",
       "<style scoped>\n",
       "    .dataframe tbody tr th:only-of-type {\n",
       "        vertical-align: middle;\n",
       "    }\n",
       "\n",
       "    .dataframe tbody tr th {\n",
       "        vertical-align: top;\n",
       "    }\n",
       "\n",
       "    .dataframe thead th {\n",
       "        text-align: right;\n",
       "    }\n",
       "</style>\n",
       "<table border=\"1\" class=\"dataframe\">\n",
       "  <thead>\n",
       "    <tr style=\"text-align: right;\">\n",
       "      <th></th>\n",
       "      <th>season</th>\n",
       "      <th>winner</th>\n",
       "    </tr>\n",
       "  </thead>\n",
       "  <tbody>\n",
       "    <tr>\n",
       "      <th>116</th>\n",
       "      <td>2008</td>\n",
       "      <td>Rajasthan Royals</td>\n",
       "    </tr>\n",
       "    <tr>\n",
       "      <th>173</th>\n",
       "      <td>2009</td>\n",
       "      <td>Deccan Chargers</td>\n",
       "    </tr>\n",
       "    <tr>\n",
       "      <th>233</th>\n",
       "      <td>2010</td>\n",
       "      <td>Chennai Super Kings</td>\n",
       "    </tr>\n",
       "    <tr>\n",
       "      <th>306</th>\n",
       "      <td>2011</td>\n",
       "      <td>Chennai Super Kings</td>\n",
       "    </tr>\n",
       "    <tr>\n",
       "      <th>380</th>\n",
       "      <td>2012</td>\n",
       "      <td>Kolkata Knight Riders</td>\n",
       "    </tr>\n",
       "    <tr>\n",
       "      <th>456</th>\n",
       "      <td>2013</td>\n",
       "      <td>Mumbai Indians</td>\n",
       "    </tr>\n",
       "    <tr>\n",
       "      <th>516</th>\n",
       "      <td>2014</td>\n",
       "      <td>Kolkata Knight Riders</td>\n",
       "    </tr>\n",
       "    <tr>\n",
       "      <th>575</th>\n",
       "      <td>2015</td>\n",
       "      <td>Mumbai Indians</td>\n",
       "    </tr>\n",
       "    <tr>\n",
       "      <th>635</th>\n",
       "      <td>2016</td>\n",
       "      <td>Sunrisers Hyderabad</td>\n",
       "    </tr>\n",
       "    <tr>\n",
       "      <th>58</th>\n",
       "      <td>2017</td>\n",
       "      <td>Mumbai Indians</td>\n",
       "    </tr>\n",
       "    <tr>\n",
       "      <th>695</th>\n",
       "      <td>2018</td>\n",
       "      <td>Chennai Super Kings</td>\n",
       "    </tr>\n",
       "    <tr>\n",
       "      <th>755</th>\n",
       "      <td>2019</td>\n",
       "      <td>Mumbai Indians</td>\n",
       "    </tr>\n",
       "  </tbody>\n",
       "</table>\n",
       "</div>"
      ],
      "text/plain": [
       "     season                 winner\n",
       "116    2008       Rajasthan Royals\n",
       "173    2009        Deccan Chargers\n",
       "233    2010    Chennai Super Kings\n",
       "306    2011    Chennai Super Kings\n",
       "380    2012  Kolkata Knight Riders\n",
       "456    2013         Mumbai Indians\n",
       "516    2014  Kolkata Knight Riders\n",
       "575    2015         Mumbai Indians\n",
       "635    2016    Sunrisers Hyderabad\n",
       "58     2017         Mumbai Indians\n",
       "695    2018    Chennai Super Kings\n",
       "755    2019         Mumbai Indians"
      ]
     },
     "execution_count": 19,
     "metadata": {},
     "output_type": "execute_result"
    }
   ],
   "source": [
    "season_winner = matches.groupby('season')['season','winner'].tail(1)\n",
    "season_winner.sort_values(by=\"season\",ascending=True)"
   ]
  },
  {
   "cell_type": "markdown",
   "metadata": {},
   "source": [
    "# Query 4"
   ]
  },
  {
   "cell_type": "markdown",
   "metadata": {},
   "source": [
    "# Teams won by maximum runs"
   ]
  },
  {
   "cell_type": "code",
   "execution_count": 20,
   "metadata": {},
   "outputs": [
    {
     "data": {
      "text/html": [
       "<div>\n",
       "<style scoped>\n",
       "    .dataframe tbody tr th:only-of-type {\n",
       "        vertical-align: middle;\n",
       "    }\n",
       "\n",
       "    .dataframe tbody tr th {\n",
       "        vertical-align: top;\n",
       "    }\n",
       "\n",
       "    .dataframe thead th {\n",
       "        text-align: right;\n",
       "    }\n",
       "</style>\n",
       "<table border=\"1\" class=\"dataframe\">\n",
       "  <thead>\n",
       "    <tr style=\"text-align: right;\">\n",
       "      <th></th>\n",
       "      <th>season</th>\n",
       "      <th>winner</th>\n",
       "      <th>win_by_runs</th>\n",
       "    </tr>\n",
       "  </thead>\n",
       "  <tbody>\n",
       "    <tr>\n",
       "      <th>43</th>\n",
       "      <td>2017</td>\n",
       "      <td>Mumbai Indians</td>\n",
       "      <td>146</td>\n",
       "    </tr>\n",
       "    <tr>\n",
       "      <th>619</th>\n",
       "      <td>2016</td>\n",
       "      <td>Royal Challengers Bangalore</td>\n",
       "      <td>144</td>\n",
       "    </tr>\n",
       "    <tr>\n",
       "      <th>59</th>\n",
       "      <td>2008</td>\n",
       "      <td>Kolkata Knight Riders</td>\n",
       "      <td>140</td>\n",
       "    </tr>\n",
       "    <tr>\n",
       "      <th>556</th>\n",
       "      <td>2015</td>\n",
       "      <td>Royal Challengers Bangalore</td>\n",
       "      <td>138</td>\n",
       "    </tr>\n",
       "    <tr>\n",
       "      <th>410</th>\n",
       "      <td>2013</td>\n",
       "      <td>Royal Challengers Bangalore</td>\n",
       "      <td>130</td>\n",
       "    </tr>\n",
       "  </tbody>\n",
       "</table>\n",
       "</div>"
      ],
      "text/plain": [
       "     season                       winner  win_by_runs\n",
       "43     2017               Mumbai Indians          146\n",
       "619    2016  Royal Challengers Bangalore          144\n",
       "59     2008        Kolkata Knight Riders          140\n",
       "556    2015  Royal Challengers Bangalore          138\n",
       "410    2013  Royal Challengers Bangalore          130"
      ]
     },
     "execution_count": 20,
     "metadata": {},
     "output_type": "execute_result"
    }
   ],
   "source": [
    "maximum_runs = matches.sort_values('win_by_runs', ascending = False)[:5].head(5)\n",
    "maximum_runs[['season','winner','win_by_runs']]"
   ]
  },
  {
   "cell_type": "markdown",
   "metadata": {},
   "source": [
    "# Query 5"
   ]
  },
  {
   "cell_type": "markdown",
   "metadata": {},
   "source": [
    "# Team won by marginal runs"
   ]
  },
  {
   "cell_type": "code",
   "execution_count": 37,
   "metadata": {},
   "outputs": [
    {
     "data": {
      "text/plain": [
       "Mumbai Indians                 3\n",
       "Royal Challengers Bangalore    2\n",
       "Kings XI Punjab                2\n",
       "Delhi Daredevils               1\n",
       "Gujarat Lions                  1\n",
       "Chennai Super Kings            1\n",
       "Name: winner, dtype: int64"
      ]
     },
     "execution_count": 37,
     "metadata": {},
     "output_type": "execute_result"
    }
   ],
   "source": [
    "min_runs = matches[matches['win_by_runs'] == 1]\n",
    "min_runs['winner'].value_counts()"
   ]
  }
 ],
 "metadata": {
  "kernelspec": {
   "display_name": "Python 3",
   "language": "python",
   "name": "python3"
  },
  "language_info": {
   "codemirror_mode": {
    "name": "ipython",
    "version": 3
   },
   "file_extension": ".py",
   "mimetype": "text/x-python",
   "name": "python",
   "nbconvert_exporter": "python",
   "pygments_lexer": "ipython3",
   "version": "3.7.3"
  }
 },
 "nbformat": 4,
 "nbformat_minor": 2
}
